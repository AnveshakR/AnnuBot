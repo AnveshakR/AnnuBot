{
 "metadata": {
  "language_info": {
   "codemirror_mode": {
    "name": "ipython",
    "version": 3
   },
   "file_extension": ".py",
   "mimetype": "text/x-python",
   "name": "python",
   "nbconvert_exporter": "python",
   "pygments_lexer": "ipython3",
   "version": "3.8.6"
  },
  "orig_nbformat": 2,
  "kernelspec": {
   "name": "python386jvsc74a57bd0f4cc0a6c0319b1569e2b81a1d029675795e459fc469682d89b44aaf2ebf1a14d",
   "display_name": "Python 3.8.6 64-bit"
  },
  "metadata": {
   "interpreter": {
    "hash": "f4cc0a6c0319b1569e2b81a1d029675795e459fc469682d89b44aaf2ebf1a14d"
   }
  }
 },
 "nbformat": 4,
 "nbformat_minor": 2,
 "cells": [
  {
   "cell_type": "code",
   "execution_count": 1,
   "metadata": {},
   "outputs": [],
   "source": [
    "import youtube_dl\n",
    "import requests\n",
    "from selenium import webdriver \n",
    "from selenium.webdriver.common.by import By \n",
    "from selenium.webdriver.support.ui import WebDriverWait \n",
    "from selenium.webdriver.support import expected_conditions as EC\n",
    "from selenium.webdriver.chrome.options import Options\n",
    "from dotenv import load_dotenv\n",
    "import os\n",
    "import discord\n",
    "from discord.ext import commands\n",
    "chrome_path = r\"C:\\Users\\anves\\Documents\\chromedriver\\chromedriver.exe\"\n",
    "save_path = r\"C:\\Users\\anves\\Documents\\Python Scripts\\YT audio puller\\temp\""
   ]
  },
  {
   "cell_type": "code",
   "execution_count": 3,
   "metadata": {},
   "outputs": [],
   "source": [
    "#spotify setup\n",
    "load_dotenv()\n",
    "DISCORD_TOKEN = os.getenv('DISCORD_TOKEN')\n",
    "SPOTIFY_ID = os.getenv('SPOTIFY_ID')\n",
    "SPOTIFY_SECRET = os.getenv('SPOTIFY_SECRET')\n",
    "AUTH_URL = 'https://accounts.spotify.com/api/token'\n",
    "auth_response = requests.post(AUTH_URL, {\n",
    "    'grant_type': 'client_credentials',\n",
    "    'client_id': SPOTIFY_ID,\n",
    "    'client_secret': SPOTIFY_SECRET,\n",
    "})\n",
    "auth_response_data = auth_response.json()\n",
    "access_token = auth_response_data['access_token']\n",
    "headers = {\n",
    "    'Authorization': 'Bearer {token}'.format(token=access_token)\n",
    "}\n",
    "spotify_base = 'https://api.spotify.com/v1/tracks/{id}'"
   ]
  },
  {
   "cell_type": "code",
   "execution_count": null,
   "metadata": {},
   "outputs": [],
   "source": [
    "def mp3download(link):\n",
    "    ydl_opts = {\n",
    "        'format': \"bestaudio/best\",\n",
    "        'extractaudio':True,\n",
    "        'outtmpl': r'C:\\Users\\anves\\Documents\\Python Scripts\\YT audio puller\\temp\\%(title)s.%(ext)s',\n",
    "        'postprocessors':[{\n",
    "            'key': 'FFmpegExtractAudio',\n",
    "            'preferredcodec': 'mp3',\n",
    "            'preferredquality': '192',\n",
    "        }],\n",
    "        'ffmpeg-location':r'ffmpeg.exe',\n",
    "        'quiet':True\n",
    "    }\n",
    "    title = \"\"\n",
    "    with youtube_dl.YoutubeDL(ydl_opts) as ydl:\n",
    "        meta = ydl.extract_info(link)\n",
    "        if(int(meta['duration'])<600):\n",
    "            title = meta['title']\n",
    "            return title\n",
    "        else:\n",
    "            return False"
   ]
  },
  {
   "cell_type": "code",
   "execution_count": null,
   "metadata": {},
   "outputs": [],
   "source": [
    "def ytpull(song):\n",
    "    ytbase = \"https://www.youtube.com/results?search_query=\"\n",
    "    options = Options()\n",
    "    options.add_argument('--headless')\n",
    "    options.add_argument('--disable-gpu')\n",
    "    driver = webdriver.Chrome(chrome_path, options=options)\n",
    "    my_url = ytbase+song+\"+lyrics\"\n",
    "    driver.get(my_url)\n",
    "\n",
    "    user_data = driver.find_elements_by_xpath('//*[@id=\"video-title\"]')\n",
    "    link = user_data[0].get_attribute('href')\n",
    "    return(link)"
   ]
  },
  {
   "cell_type": "code",
   "execution_count": null,
   "metadata": {},
   "outputs": [],
   "source": [
    "def spotifypull(uri):\n",
    "    r = requests.get(spotify_base.format(id=uri), headers=headers)\n",
    "    r = r.json()\n",
    "    name = r['name']+\" \"+r['artists'][0]['name']\n",
    "    return ytpull(name)"
   ]
  },
  {
   "cell_type": "code",
   "execution_count": null,
   "metadata": {
    "tags": []
   },
   "outputs": [],
   "source": [
    "def request(query):\n",
    "    name = \"\"\n",
    "    if query.find(\"https://\") != -1:\n",
    "\n",
    "        if query.find(\"youtube.com/watch\") != -1 or query.find(\"youtu.be/\") != -1:\n",
    "            name = mp3download(query)\n",
    "\n",
    "        if query.find(\"spotify\") !=-1:\n",
    "            uri = query[31:53]\n",
    "            name = mp3download(spotifypull(uri))\n",
    "\n",
    "    elif query.find(\"spotify:track\") !=-1:\n",
    "        uri = query[14:]\n",
    "        name = mp3download(spotifypull(uri))\n",
    "\n",
    "    else:\n",
    "        name = mp3download(ytpull(query))\n",
    "    return name\n"
   ]
  },
  {
   "cell_type": "code",
   "execution_count": null,
   "metadata": {},
   "outputs": [],
   "source": [
    "bot = commands.Bot(command_prefix='annu ')\n",
    "\n",
    "@bot.event\n",
    "async def on_ready():\n",
    "    await bot.change_presence(activity=discord.Activity(type=discord.ActivityType.listening, name=\"annu\"))\n",
    "\n",
    "@bot.command(name = 'join', aliases=['connect'], pass_context=True)\n",
    "async def join(ctx):\n",
    "\n",
    "    if ctx.author.voice:\n",
    "        await ctx.author.voice.channel.connect()\n",
    "    else:\n",
    "        await ctx.send(\"You are not connected to a voice channel.\")\n",
    "        raise commands.CommandError(\"Author not connected to a voice channel.\")\n",
    "\n",
    "@bot.command(name='play', pass_context=True)\n",
    "async def play(ctx, *, query):\n",
    "\n",
    "    title = request(query)\n",
    "    if ctx.voice_client is None:\n",
    "        if ctx.author.voice:\n",
    "            await ctx.author.voice.channel.connect()\n",
    "\n",
    "    #source = discord.PCMVolumeTransformer(discord.FFmpegPCMAudio(r'C:\\Users\\anves\\Documents\\Python Scripts\\YT audio puller\\Sieshin.mp3'))\n",
    "    source = discord.PCMVolumeTransformer(discord.FFmpegPCMAudio(os.path.join(save_path,(title+\".mp3\"))))\n",
    "    ctx.voice_client.play(source, after=lambda e: print('Player error: %s' % e) if e else None)\n",
    "    await ctx.send('Now playing: {}'.format(title))\n",
    "\n",
    "\n",
    "bot.run(DISCORD_TOKEN)\n"
   ]
  },
  {
   "cell_type": "code",
   "execution_count": null,
   "metadata": {},
   "outputs": [],
   "source": [
    "os.path.join(save_path,(title+\".mp3\"))"
   ]
  },
  {
   "cell_type": "code",
   "execution_count": null,
   "metadata": {},
   "outputs": [],
   "source": []
  }
 ]
}