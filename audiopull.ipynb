{
 "metadata": {
  "language_info": {
   "codemirror_mode": {
    "name": "ipython",
    "version": 3
   },
   "file_extension": ".py",
   "mimetype": "text/x-python",
   "name": "python",
   "nbconvert_exporter": "python",
   "pygments_lexer": "ipython3",
   "version": "3.8.6"
  },
  "orig_nbformat": 2,
  "kernelspec": {
   "name": "python3",
   "display_name": "Python 3.8.6 64-bit",
   "metadata": {
    "interpreter": {
     "hash": "f4cc0a6c0319b1569e2b81a1d029675795e459fc469682d89b44aaf2ebf1a14d"
    }
   }
  }
 },
 "nbformat": 4,
 "nbformat_minor": 2,
 "cells": [
  {
   "cell_type": "code",
   "execution_count": 3,
   "metadata": {},
   "outputs": [],
   "source": [
    "from __future__ import unicode_literals\n",
    "import youtube_dl\n",
    "from bs4 import BeautifulSoup as bs\n",
    "import requests\n",
    "from selenium import webdriver \n",
    "from selenium.webdriver.common.by import By \n",
    "from selenium.webdriver.support.ui import WebDriverWait \n",
    "from selenium.webdriver.support import expected_conditions as EC\n",
    "from selenium.webdriver.chrome.options import Options\n",
    "import time\n",
    "from dotenv import load_dotenv\n",
    "import os\n",
    "chrome_path = r\"C:\\Users\\anves\\Documents\\chromedriver\\chromedriver.exe\""
   ]
  },
  {
   "cell_type": "code",
   "execution_count": 4,
   "metadata": {},
   "outputs": [],
   "source": [
    "#spotify setup\n",
    "load_dotenv()\n",
    "SPOTIFY_ID = os.getenv('SPOTIFY_ID')\n",
    "SPOTIFY_SECRET = os.getenv('SPOTIFY_SECRET')\n",
    "AUTH_URL = 'https://accounts.spotify.com/api/token'\n",
    "auth_response = requests.post(AUTH_URL, {\n",
    "    'grant_type': 'client_credentials',\n",
    "    'client_id': SPOTIFY_ID,\n",
    "    'client_secret': SPOTIFY_SECRET,\n",
    "})\n",
    "auth_response_data = auth_response.json()\n",
    "access_token = auth_response_data['access_token']\n",
    "headers = {\n",
    "    'Authorization': 'Bearer {token}'.format(token=access_token)\n",
    "}\n",
    "spotify_base = 'https://api.spotify.com/v1/tracks/{id}'"
   ]
  },
  {
   "cell_type": "code",
   "execution_count": 5,
   "metadata": {},
   "outputs": [],
   "source": [
    "def mp3download(link):\n",
    "    ydl_opts = {\n",
    "        'format': \"bestaudio/best\",\n",
    "        'extractaudio':True,\n",
    "        #'outtmpl': u'%(id)s.%(ext)s',\n",
    "        'postprocessors':[{\n",
    "            'key': 'FFmpegExtractAudio',\n",
    "            'preferredcodec': 'mp3',\n",
    "            'preferredquality': '192',\n",
    "        }],\n",
    "        'ffmpeg-location':r'ffmpeg.exe'\n",
    "    }\n",
    "    with youtube_dl.YoutubeDL(ydl_opts) as ydl:\n",
    "        ydl.download([link])"
   ]
  },
  {
   "cell_type": "code",
   "execution_count": 6,
   "metadata": {},
   "outputs": [],
   "source": [
    "def ytpull(song):\n",
    "    ytbase = \"https://www.youtube.com/results?search_query=\"\n",
    "    options = Options()\n",
    "    options.add_argument('--headless')\n",
    "    options.add_argument('--disable-gpu')\n",
    "    driver = webdriver.Chrome(chrome_path, options=options)\n",
    "    my_url = ytbase+song+\"+lyrics\"\n",
    "    driver.get(my_url)\n",
    "\n",
    "    user_data = driver.find_elements_by_xpath('//*[@id=\"video-title\"]')\n",
    "    link = user_data[0].get_attribute('href')\n",
    "    return(link)"
   ]
  },
  {
   "cell_type": "code",
   "execution_count": 7,
   "metadata": {},
   "outputs": [],
   "source": [
    "def spotifypull(uri):\n",
    "    r = requests.get(spotify_base.format(id=uri), headers=headers)\n",
    "    r = r.json()\n",
    "    name = r['name']+\" \"+r['artists'][0]['name']\n",
    "    return ytpull(name)"
   ]
  },
  {
   "cell_type": "code",
   "execution_count": 8,
   "metadata": {
    "tags": []
   },
   "outputs": [
    {
     "output_type": "stream",
     "name": "stdout",
     "text": [
      "[youtube] DZXkDz80eRc: Downloading webpage\n",
      "[download] Destination: Lil Tecca - Ransom Remix (Lyrics) ft. Juice Wrld-DZXkDz80eRc.webm\n",
      "[download] 100% of 3.06MiB in 00:00                  \n",
      "[ffmpeg] Destination: Lil Tecca - Ransom Remix (Lyrics) ft. Juice Wrld-DZXkDz80eRc.mp3\n",
      "Deleting original file Lil Tecca - Ransom Remix (Lyrics) ft. Juice Wrld-DZXkDz80eRc.webm (pass -k to keep)\n"
     ]
    }
   ],
   "source": [
    "query = input(\"song: \")\n",
    "\n",
    "#https://youtu.be/\n",
    "#https://www.youtube.com/watch?v=\n",
    "#\"https://open.spotify.com/track/4npZ2Um2ZsNBzNOVEVCJoy?si=fwn5JNATRCikVo8XSAZScw\"\n",
    "#query = \"spotify:track:4npZ2Um2ZsNBzNOVEVCJoy\"\n",
    "\n",
    "if query.find(\"https://\") != -1:\n",
    "\n",
    "    if query.find(\"youtube.com/watch\") != -1 or query.find(\"youtu.be/\") != -1:\n",
    "        mp3download(query)\n",
    "\n",
    "    if query.find(\"spotify\") !=-1:\n",
    "        uri = query[31:53]\n",
    "        mp3download(spotifypull(uri))\n",
    "\n",
    "elif query.find(\"spotify:track\") !=-1:\n",
    "    uri = query[14:]\n",
    "    mp3download(spotifypull(uri))\n",
    "\n",
    "else:\n",
    "    mp3download(ytpull(query))"
   ]
  },
  {
   "cell_type": "code",
   "execution_count": null,
   "metadata": {},
   "outputs": [],
   "source": []
  }
 ]
}